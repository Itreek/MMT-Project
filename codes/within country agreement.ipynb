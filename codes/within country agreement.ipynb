{
 "cells": [
  {
   "attachments": {},
   "cell_type": "markdown",
   "metadata": {},
   "source": [
    "Within country agreement"
   ]
  },
  {
   "cell_type": "code",
   "execution_count": null,
   "metadata": {},
   "outputs": [],
   "source": [
    "import pandas as pd\n",
    "import numpy as np\n",
    "import matplotlib.pyplot as plt\n",
    "!pip install pingouin\n",
    "import pingouin as pg\n"
   ]
  },
  {
   "cell_type": "code",
   "execution_count": null,
   "metadata": {},
   "outputs": [],
   "source": [
    "df = pd.read_csv(\n",
    "    'C:/Users/Keerthi/OneDrive/Documents/MMT/Project/Collected data/MMT tweaking.csv')\n"
   ]
  },
  {
   "cell_type": "code",
   "execution_count": null,
   "metadata": {},
   "outputs": [],
   "source": [
    "block1 = df[:13]\n",
    "block1\n",
    "\n",
    "block2 = df[13:25]\n",
    "block2\n",
    "\n",
    "\n",
    "block3 = df[25:39]\n",
    "block3\n",
    "\n",
    "block4 = df[39:53]\n",
    "block4\n",
    "\n",
    "block5 = df[53:68]\n",
    "block5\n",
    "\n",
    "\n",
    "block6 = df[68:]\n",
    "block6\n"
   ]
  },
  {
   "attachments": {},
   "cell_type": "markdown",
   "metadata": {},
   "source": [
    "1. For Home state = 'south', for each of the 9 moods, change the 6 blocks and note down the ICC values of each block for alll the 9 moods. This data is used to get ICCmean\n",
    "\n",
    "2. Repeat the above for Home State = 'North'"
   ]
  },
  {
   "cell_type": "code",
   "execution_count": null,
   "metadata": {},
   "outputs": [],
   "source": [
    "###################################################################################\n",
    "\n",
    "# Change the block here and the state here from norht to south\n",
    "south_hs = block2.loc[df['Home State'] == 'North']\n",
    "###################################################################################\n",
    "\n",
    "for_cor = []\n",
    "\n",
    "for index, row in south_hs.iterrows():\n",
    "   \n",
    "    rowwise_cor = []\n",
    "    \n",
    "    ###############################################################################\n",
    "    \n",
    "    # Change the mood here \n",
    "    \n",
    "    dreamy_cols = [\n",
    "        col for col in row.index if '[Tense]' in col] \n",
    "\n",
    "    ###############################################################################\n",
    "    for i in dreamy_cols:\n",
    "        rowwise_cor.append(row[i])\n",
    "\n",
    "    for_cor.append(rowwise_cor)\n",
    "\n",
    "for_cor\n",
    "for_cor = pd.DataFrame(for_cor)\n",
    "for_cor = for_cor.transpose()\n",
    "\n",
    "# for_cor.columns for 50 raters\n",
    "\n",
    "#######################################################################################\n",
    "\n",
    "# Adjust the raters according to the number of raters in each block\n",
    "\n",
    "for_cor.columns = ['rater1', 'rater2']  # , 'rater3']#, 'rater4','rater5']#, 'rater6', 'rater7', 'rater8', 'rater9']#, 'rater10']#, 'rater11', 'rater12', 'rater13', 'rater14', 'rater15', 'rater16', 'rater17', 'rater18', 'rater19', 'rater20', 'rater21', 'rater22', 'rater23', 'rater24', 'rater25', 'rater26', 'rater27', 'rater28', 'rater29', 'rater30', 'rater31', 'rater32', 'rater33', 'rater34', 'rater35', 'rater36', 'rater37', 'rater38', 'rater39', 'rater40', 'rater41', 'rater42', 'rater43', 'rater44', 'rater45', 'rater46', 'rater47', 'rater48', 'rater49', 'rater50']\n",
    "######################################################################################\n",
    "\n",
    "for_cor['index'] = for_cor.index\n",
    "for_cor = pd.melt(for_cor, id_vars=['index'], value_vars=list(for_cor)[:-1])\n",
    "\n",
    "results = pg.intraclass_corr(\n",
    "    for_cor, 'index', 'variable', 'value', nan_policy='omit')\n",
    "results = results.set_index('Description')\n",
    "icc = results.loc['Average random raters', 'ICC']\n",
    "\n",
    "print(icc.round(3))\n"
   ]
  },
  {
   "attachments": {},
   "cell_type": "markdown",
   "metadata": {},
   "source": [
    "1. For Home state = 'IND', for each of the 9 moods, change the 6 blocks and note down the ICC values of each block for alll the 9 moods. This data is used to get ICCmean\n"
   ]
  },
  {
   "cell_type": "code",
   "execution_count": null,
   "metadata": {},
   "outputs": [],
   "source": [
    "import pandas as pd\n",
    "idf = pd.read_csv(\n",
    "    'C:/Users/Keerthi/OneDrive/Documents/MMT/Project/Collected data/MMT Tweaking IND.csv')\n"
   ]
  },
  {
   "cell_type": "code",
   "execution_count": null,
   "metadata": {},
   "outputs": [],
   "source": [
    "# or df['Home state'] == 'North']\n",
    "\n",
    "###################################################################################\n",
    "\n",
    "# Change the block here \n",
    "south_hs = block2.loc[idf['Home State'] == 'IND']\n",
    "\n",
    "###################################################################################\n",
    "\n",
    "for_cor = []\n",
    "\n",
    "for index, row in south_hs.iterrows():\n",
    "    # get the 'Language' columns that have the value 'KOR'\n",
    "    rowwise_cor = []\n",
    "    \n",
    "    ###############################################################################\n",
    "\n",
    "    # Change the mood here\n",
    "    dreamy_cols = [\n",
    "        col for col in row.index if '[Tense]' in col]\n",
    "    \n",
    "    ###############################################################################\n",
    "\n",
    "    for i in dreamy_cols:\n",
    "        rowwise_cor.append(row[i])\n",
    "\n",
    "    for_cor.append(rowwise_cor)\n",
    "\n",
    "for_cor\n",
    "for_cor = pd.DataFrame(for_cor)\n",
    "for_cor = for_cor.transpose()\n",
    "\n",
    "# for_cor.columns for 50 raters\n",
    "# , 'rater13']#, 'rater14']#, 'rater15']#, 'rater16', 'rater17', 'rater18', 'rater19', 'rater20', 'rater21', 'rater22', 'rater23', 'rater24', 'rater25', 'rater26', 'rater27', 'rater28', 'rater29', 'rater30', 'rater31', 'rater32', 'rater33', 'rater34', 'rater35', 'rater36', 'rater37', 'rater38', 'rater39', 'rater40', 'rater41', 'rater42', 'rater43', 'rater44', 'rater45', 'rater46', 'rater47', 'rater48', 'rater49', 'rater50']\n",
    "for_cor.columns = ['rater1', 'rater2', 'rater3', 'rater4', 'rater5',\n",
    "                   'rater6', 'rater7', 'rater8', 'rater9', 'rater10', 'rater11', 'rater12']\n",
    "\n",
    "for_cor['index'] = for_cor.index\n",
    "for_cor = pd.melt(for_cor, id_vars=['index'], value_vars=list(for_cor)[:-1])\n",
    "\n",
    "results = pg.intraclass_corr(\n",
    "    for_cor, 'index', 'variable', 'value', nan_policy='omit')\n",
    "results = results.set_index('Description')\n",
    "icc = results.loc['Average random raters', 'ICC']\n",
    "\n",
    "print(icc.round(3))\n"
   ]
  }
 ],
 "metadata": {
  "language_info": {
   "name": "python"
  },
  "orig_nbformat": 4
 },
 "nbformat": 4,
 "nbformat_minor": 2
}
